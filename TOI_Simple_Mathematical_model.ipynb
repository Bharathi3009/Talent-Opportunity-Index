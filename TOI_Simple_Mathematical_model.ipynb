{
  "nbformat": 4,
  "nbformat_minor": 0,
  "metadata": {
    "colab": {
      "provenance": [],
      "authorship_tag": "ABX9TyMZIHJonrkvtPtAVUx/Idlp",
      "include_colab_link": true
    },
    "kernelspec": {
      "name": "python3",
      "display_name": "Python 3"
    },
    "language_info": {
      "name": "python"
    }
  },
  "cells": [
    {
      "cell_type": "markdown",
      "metadata": {
        "id": "view-in-github",
        "colab_type": "text"
      },
      "source": [
        "<a href=\"https://colab.research.google.com/github/Bharathi3009/Talent-Opportunity-Index/blob/main/TOI_Simple_Mathematical_model.ipynb\" target=\"_parent\"><img src=\"https://colab.research.google.com/assets/colab-badge.svg\" alt=\"Open In Colab\"/></a>"
      ]
    },
    {
      "cell_type": "code",
      "metadata": {
        "id": "ee74b36f"
      },
      "source": [
        "import pandas as pd\n",
        "\n",
        "# Load dataset\n",
        "df = pd.read_csv('/content/AI_Resume_Screening.csv')\n",
        "\n",
        "# Display the first few rows of the DataFrame\n",
        "display(df.head())"
      ],
      "execution_count": null,
      "outputs": []
    },
    {
      "cell_type": "code",
      "metadata": {
        "id": "4d0ae541"
      },
      "source": [
        "import pandas as pd\n",
        "from sklearn.preprocessing import StandardScaler\n",
        "from sklearn.model_selection import train_test_split\n",
        "import numpy as np\n",
        "\n",
        "# Simple preprocessing\n",
        "df['Experience (Years)'] = df['Experience (Years)'].fillna(df['Experience (Years)'].mean())\n",
        "df['Education'] = df['Education'].fillna('Bachelor')\n",
        "df['Skills'] = df['Skills'].fillna('')\n",
        "\n",
        "# Feature engineering\n",
        "df['num_skills'] = df['Skills'].apply(lambda x: 0 if x.strip() == '' else len(x.split(',')))\n",
        "df.drop(columns=['Skills'], inplace=True)\n",
        "\n",
        "edu_map = {'Bachelor': 0, 'Master': 1, 'PhD': 2}\n",
        "df['education_code'] = df['Education'].map(edu_map)\n",
        "df.drop(columns=['Education'], inplace=True)\n",
        "\n",
        "scaler = StandardScaler()\n",
        "df['experience_norm'] = scaler.fit_transform(df[['Experience (Years)']])\n",
        "df.drop(columns=['Experience (Years)'], inplace=True)\n",
        "\n",
        "X = df[['experience_norm', 'num_skills', 'education_code']]\n",
        "df['Hire'] = df['Recruiter Decision'].map({'Hire': 1, 'Reject': 0})\n",
        "y = df['Hire']"
      ],
      "execution_count": null,
      "outputs": []
    },
    {
      "cell_type": "code",
      "metadata": {
        "id": "a0dc3a11"
      },
      "source": [
        "X_train, X_test, y_train, y_test = train_test_split(X, y, test_size=0.3, random_state=42)"
      ],
      "execution_count": null,
      "outputs": []
    },
    {
      "cell_type": "code",
      "metadata": {
        "id": "a94f88cd"
      },
      "source": [
        "# Define simple weights for features (these can be tuned manually)\n",
        "w_experience = 0.5\n",
        "w_skills = 0.3\n",
        "w_education = 0.2\n",
        "\n",
        "# Calculate TOI as weighted sum of normalized features\n",
        "def compute_toi(X):\n",
        "    return (\n",
        "        X['experience_norm'] * w_experience +\n",
        "        X['num_skills'] * w_skills +\n",
        "        X['education_code'] * w_education\n",
        "    )\n",
        "\n",
        "# Compute TOI scores for test data\n",
        "toi_scores = compute_toi(X_test)\n",
        "\n",
        "# Normalize TOI scores to 0–1 range\n",
        "toi_scores_norm = (toi_scores - np.min(toi_scores)) / (np.max(toi_scores) - np.min(toi_scores))\n",
        "\n",
        "# Use threshold of 0.5 to classify Hire vs. Reject\n",
        "y_pred = (toi_scores_norm >= 0.5).astype(int)"
      ],
      "execution_count": null,
      "outputs": []
    },
    {
      "cell_type": "code",
      "metadata": {
        "id": "44cd8eef"
      },
      "source": [
        "from sklearn.metrics import accuracy_score, precision_score, recall_score, roc_auc_score\n",
        "\n",
        "# Evaluate the model\n",
        "accuracy = accuracy_score(y_test, y_pred)\n",
        "precision = precision_score(y_test, y_pred)\n",
        "recall = recall_score(y_test, y_pred)\n",
        "roc_auc = roc_auc_score(y_test, y_pred)\n",
        "\n",
        "print(f\"Accuracy: {accuracy:.4f}\")\n",
        "print(f\"Precision: {precision:.4f}\")\n",
        "print(f\"Recall: {recall:.4f}\")\n",
        "print(f\"ROC AUC: {roc_auc:.4f}\")"
      ],
      "execution_count": null,
      "outputs": []
    },
    {
      "cell_type": "code",
      "source": [],
      "metadata": {
        "id": "86bQFJc6i8ou"
      },
      "execution_count": null,
      "outputs": []
    },
    {
      "cell_type": "code",
      "source": [
        "import pandas as pd\n",
        "import numpy as np\n",
        "from sklearn.preprocessing import MinMaxScaler\n",
        "from sklearn.model_selection import train_test_split\n",
        "from sklearn.metrics import accuracy_score, precision_score, recall_score, roc_auc_score\n",
        "\n",
        "# Load dataset\n",
        "df = pd.read_csv('/content/AI_Resume_Screening.csv')\n",
        "\n",
        "# Simple preprocessing\n",
        "df['Experience (Years)'] = df['Experience (Years)'].fillna(df['Experience (Years)'].mean())\n",
        "df['Education'] = df['Education'].fillna('Bachelor')\n",
        "df['Skills'] = df['Skills'].fillna('')\n",
        "\n",
        "# Feature engineering\n",
        "df['num_skills'] = df['Skills'].apply(lambda x: 0 if x.strip() == '' else len(x.split(',')))\n",
        "edu_map = {'Bachelor': 0.6, 'Master': 0.8, 'PhD': 1.0}  # Smarter scores than 0/1/2\n",
        "# Handle unmapped values by setting them to NaN, then fill NaN\n",
        "df['education_score'] = df['Education'].map(edu_map, na_action='ignore') # Corrected na_action\n",
        "df['education_score'] = df['education_score'].fillna(0) # Fill any remaining NaNs with 0\n",
        "\n",
        "# Normalize experience and num_skills\n",
        "scaler = MinMaxScaler()\n",
        "df[['experience_norm', 'num_skills_norm']] = scaler.fit_transform(df[['Experience (Years)', 'num_skills']])\n",
        "df.drop(columns=['Experience (Years)', 'Skills', 'Education'], inplace=True)\n",
        "\n",
        "# Binary target\n",
        "df['Hire'] = df['Recruiter Decision'].map({'Hire': 1, 'Reject': 0})\n",
        "df.drop(columns=['Recruiter Decision'], inplace=True)\n",
        "\n",
        "\n",
        "# Compute correlation of each feature with Hire\n",
        "correlations = df[['experience_norm', 'num_skills_norm', 'education_score']].corrwith(df['Hire'])\n",
        "print(\"Feature correlations with Hire:\", correlations)\n",
        "\n",
        "# Set weights proportional to correlation (normalized to sum to 1)\n",
        "weights = correlations.abs() / correlations.abs().sum()\n",
        "print(\"Computed weights:\", weights)\n",
        "\n",
        "\n",
        "def compute_improved_toi(X):\n",
        "    return (\n",
        "        X['experience_norm'] * weights['experience_norm'] +\n",
        "        X['num_skills_norm'] * weights['num_skills_norm'] +\n",
        "        X['education_score'] * weights['education_score']\n",
        "    )\n",
        "\n",
        "# Split data\n",
        "X = df[['experience_norm', 'num_skills_norm', 'education_score']]\n",
        "y = df['Hire']\n",
        "X_train, X_test, y_train, y_test = train_test_split(X, y, test_size=0.3, random_state=42)\n",
        "\n",
        "# Compute TOI\n",
        "toi_scores = compute_improved_toi(X_test)\n",
        "\n",
        "# Normalize TOI between 0 and 1\n",
        "toi_scores_norm = (toi_scores - np.min(toi_scores)) / (np.max(toi_scores) - np.min(toi_scores))\n",
        "\n",
        "# Use threshold (tunable) to classify\n",
        "threshold = 0.5\n",
        "y_pred = (toi_scores_norm >= threshold).astype(int)\n",
        "\n",
        "print(\"Improved Rule-Based Model Evaluation:\")\n",
        "print(\"Accuracy  :\", accuracy_score(y_test, y_pred))\n",
        "print(\"Precision :\", precision_score(y_test, y_pred))\n",
        "print(\"Recall    :\", recall_score(y_test, y_pred))\n",
        "print(\"ROC AUC   :\", roc_auc_score(y_test, toi_scores_norm))\n",
        "\n",
        "print(\"\\nSample improved TOI scores (first 5):\", toi_scores_norm[:5])"
      ],
      "metadata": {
        "colab": {
          "base_uri": "https://localhost:8080/"
        },
        "id": "0Ho-Zm07A_GN",
        "outputId": "1405bac1-3aca-4716-e186-e227298b33a9"
      },
      "execution_count": null,
      "outputs": [
        {
          "output_type": "stream",
          "name": "stdout",
          "text": [
            "Feature correlations with Hire: experience_norm    0.576235\n",
            "num_skills_norm    0.086422\n",
            "education_score    0.017183\n",
            "dtype: float64\n",
            "Computed weights: experience_norm    0.847604\n",
            "num_skills_norm    0.127121\n",
            "education_score    0.025276\n",
            "dtype: float64\n",
            "Improved Rule-Based Model Evaluation:\n",
            "Accuracy  : 0.68\n",
            "Precision : 1.0\n",
            "Recall    : 0.5932203389830508\n",
            "ROC AUC   : 0.9188294491525425\n",
            "\n",
            "Sample improved TOI scores (first 5): 521    0.826404\n",
            "737    0.508562\n",
            "740    0.487362\n",
            "660    0.678083\n",
            "411    0.364317\n",
            "dtype: float64\n"
          ]
        }
      ]
    },
    {
      "cell_type": "code",
      "source": [],
      "metadata": {
        "id": "dEETUARZBCMG"
      },
      "execution_count": null,
      "outputs": []
    }
  ]
}