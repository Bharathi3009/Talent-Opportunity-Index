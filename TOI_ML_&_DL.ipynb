{
  "nbformat": 4,
  "nbformat_minor": 0,
  "metadata": {
    "colab": {
      "provenance": [],
      "authorship_tag": "ABX9TyOMFxSEh/IhY7F3FUZrJVTP",
      "include_colab_link": true
    },
    "kernelspec": {
      "name": "python3",
      "display_name": "Python 3"
    },
    "language_info": {
      "name": "python"
    }
  },
  "cells": [
    {
      "cell_type": "markdown",
      "metadata": {
        "id": "view-in-github",
        "colab_type": "text"
      },
      "source": [
        "<a href=\"https://colab.research.google.com/github/Bharathi3009/Talent-Opportunity-Index/blob/main/TOI_ML_%26_DL.ipynb\" target=\"_parent\"><img src=\"https://colab.research.google.com/assets/colab-badge.svg\" alt=\"Open In Colab\"/></a>"
      ]
    },
    {
      "cell_type": "code",
      "source": [
        "import pandas as pd\n",
        "from sklearn.preprocessing import StandardScaler\n",
        "\n",
        "# 1. Load data\n",
        "df = pd.read_csv('AI_Resume_Screening.csv')  # replace with actual CSV filename\n",
        "print(df.columns) # Add this line to check columns\n",
        "\n",
        "# 2. Handle missing values (fill or drop) for relevant columns\n",
        "df['Experience (Years)'] = df['Experience (Years)'].fillna(df['Experience (Years)'].mean())\n",
        "df['Education'] = df['Education'].fillna('Bachelor')\n",
        "df['Skills'] = df['Skills'].fillna('')"
      ],
      "metadata": {
        "colab": {
          "base_uri": "https://localhost:8080/"
        },
        "id": "bAC2cWpLc13-",
        "outputId": "454c013b-127a-42a6-b13f-58d15963e903"
      },
      "execution_count": 27,
      "outputs": [
        {
          "output_type": "stream",
          "name": "stdout",
          "text": [
            "Index(['Resume_ID', 'Name', 'Skills', 'Experience (Years)', 'Education',\n",
            "       'Certifications', 'Job Role', 'Recruiter Decision',\n",
            "       'Salary Expectation ($)', 'Projects Count', 'AI Score (0-100)'],\n",
            "      dtype='object')\n"
          ]
        }
      ]
    },
    {
      "cell_type": "code",
      "source": [
        "from sklearn.preprocessing import StandardScaler\n",
        "\n",
        "# 2. Handle missing values (fill or drop)\n",
        "df['Experience (Years)'] = df['Experience (Years)'].fillna(df['Experience (Years)'].mean())\n",
        "df['Education'] = df['Education'].fillna('Bachelor')\n",
        "df['Skills'] = df['Skills'].fillna('')\n",
        "\n",
        "# Normalize numeric features (e.g. Experience)\n",
        "scaler = StandardScaler()\n",
        "df['experience_norm'] = scaler.fit_transform(df[['Experience (Years)']])\n",
        "\n",
        "# 3. Feature engineering: count number of skills (assuming comma-separated list)\n",
        "df['num_skills'] = df['Skills'].apply(lambda x: 0 if x.strip()=='' else len(x.split(',')))\n",
        "df.drop(columns=['Skills'], inplace=True)\n",
        "\n",
        "# 4. Encode education level to numeric\n",
        "edu_map = {'Bachelor': 0, 'Master': 1, 'PhD': 2}\n",
        "df['education_code'] = df['Education'].map(edu_map)\n",
        "df.drop(columns=['Education'], inplace=True)"
      ],
      "metadata": {
        "id": "Gx1ML7CDdKwT"
      },
      "execution_count": 30,
      "outputs": []
    },
    {
      "cell_type": "code",
      "source": [
        "import numpy as np\n",
        "# 5. Prepare feature matrix X and label y\n",
        "\n",
        "# Fill missing values in education_code before preparing X\n",
        "df['education_code'] = df['education_code'].fillna(df['education_code'].mode()[0])\n",
        "\n",
        "# 6. Prepare feature matrix X and label y\n",
        "print(df.columns) # Add this line to check columns\n",
        "print(df['Recruiter Decision'].dtype) # Check data type\n",
        "print(df['Recruiter Decision'].unique()) # Re-check unique values\n",
        "print(df['Recruiter Decision'].apply(lambda x: type(x)).unique()) # Check types of individual elements\n",
        "X = df[['experience_norm', 'num_skills', 'education_code']]\n",
        "df['Hire'] = np.where(df['Recruiter Decision'] == 'Hire', 1, 0)\n",
        "y = df['Hire']"
      ],
      "metadata": {
        "colab": {
          "base_uri": "https://localhost:8080/"
        },
        "id": "82LXpMvJdgHV",
        "outputId": "468fde71-37ec-4e80-dab1-e81013ead83c"
      },
      "execution_count": 31,
      "outputs": [
        {
          "output_type": "stream",
          "name": "stdout",
          "text": [
            "Index(['Resume_ID', 'Name', 'Experience (Years)', 'Certifications', 'Job Role',\n",
            "       'Recruiter Decision', 'Salary Expectation ($)', 'Projects Count',\n",
            "       'AI Score (0-100)', 'experience_norm', 'num_skills', 'education_code'],\n",
            "      dtype='object')\n",
            "object\n",
            "['Hire' 'Reject']\n",
            "[<class 'str'>]\n"
          ]
        }
      ]
    },
    {
      "cell_type": "code",
      "source": [
        "from sklearn.model_selection import train_test_split\n",
        "from sklearn.ensemble import RandomForestClassifier\n",
        "from sklearn.linear_model import LogisticRegression\n",
        "from sklearn.metrics import accuracy_score, precision_score, recall_score, roc_auc_score\n",
        "\n",
        "# Split data\n",
        "X_train, X_test, y_train, y_test = train_test_split(X, y, test_size=0.3, random_state=42)"
      ],
      "metadata": {
        "id": "OkIAI_TUdicj"
      },
      "execution_count": 32,
      "outputs": []
    },
    {
      "cell_type": "code",
      "source": [
        "# Train models\n",
        "rf = RandomForestClassifier(n_estimators=100, random_state=42)\n",
        "lr = LogisticRegression()\n",
        "rf.fit(X_train, y_train)\n",
        "lr.fit(X_train, y_train)\n",
        "\n",
        "# Predict on test set\n",
        "y_pred_rf = rf.predict(X_test)\n",
        "y_pred_lr = lr.predict(X_test)\n",
        "y_proba_rf = rf.predict_proba(X_test)[:,1]\n",
        "y_proba_lr = lr.predict_proba(X_test)[:,1]"
      ],
      "metadata": {
        "id": "GG1oQBngfNtQ"
      },
      "execution_count": 33,
      "outputs": []
    },
    {
      "cell_type": "code",
      "source": [
        "# Evaluate metrics\n",
        "print(\"Random Forest metrics:\")\n",
        "print(\"  Accuracy  =\", accuracy_score(y_test, y_pred_rf))\n",
        "print(\"  Precision =\", precision_score(y_test, y_pred_rf))\n",
        "print(\"  Recall    =\", recall_score(y_test, y_pred_rf))\n",
        "print(\"  ROC-AUC   =\", roc_auc_score(y_test, y_proba_rf))\n",
        "print()\n",
        "print(\"Logistic Regression metrics:\")\n",
        "print(\"  Accuracy  =\", accuracy_score(y_test, y_pred_lr))\n",
        "print(\"  Precision =\", precision_score(y_test, y_pred_lr))\n",
        "print(\"  Recall    =\", recall_score(y_test, y_pred_lr))\n",
        "print(\"  ROC-AUC   =\", roc_auc_score(y_test, y_proba_lr))\n",
        "\n",
        "# Compute TOI scores (probability of hire) for each candidate (using logistic model)\n",
        "toi_scores = lr.predict_proba(X)[:,1]\n",
        "print(\"\\nTOI (hire probability) for first 5 candidates:\", toi_scores[:5])"
      ],
      "metadata": {
        "colab": {
          "base_uri": "https://localhost:8080/"
        },
        "id": "cD4EB1wKfTLB",
        "outputId": "0879a854-d391-484b-aebb-04e3599de5bb"
      },
      "execution_count": 34,
      "outputs": [
        {
          "output_type": "stream",
          "name": "stdout",
          "text": [
            "Random Forest metrics:\n",
            "  Accuracy  = 0.84\n",
            "  Precision = 0.8700787401574803\n",
            "  Recall    = 0.9364406779661016\n",
            "  ROC-AUC   = 0.9214115466101694\n",
            "\n",
            "Logistic Regression metrics:\n",
            "  Accuracy  = 0.8433333333333334\n",
            "  Precision = 0.8888888888888888\n",
            "  Recall    = 0.9152542372881356\n",
            "  ROC-AUC   = 0.9210805084745763\n",
            "\n",
            "TOI (hire probability) for first 5 candidates: [0.99965529 0.99976913 0.42895407 0.99461965 0.92177726]\n"
          ]
        }
      ]
    },
    {
      "cell_type": "code",
      "source": [
        "import numpy as np\n",
        "from tensorflow.keras.models import Sequential\n",
        "from tensorflow.keras.layers import Dense\n",
        "\n",
        "# Build simple MLP model\n",
        "mlp = Sequential([\n",
        "    Dense(16, activation='relu', input_shape=(X_train.shape[1],)),\n",
        "    Dense(8, activation='relu'),\n",
        "    Dense(1, activation='sigmoid')\n",
        "])\n",
        "mlp.compile(loss='binary_crossentropy', optimizer='adam', metrics=['accuracy'])\n",
        "\n",
        "# Train MLP\n",
        "mlp.fit(X_train, y_train, epochs=20, batch_size=16, verbose=0)\n",
        "\n",
        "# Predict and evaluate\n",
        "y_proba_nn = mlp.predict(X_test).ravel()\n",
        "y_pred_nn = (y_proba_nn >= 0.5).astype(int)\n",
        "\n",
        "print(\"\\nNeural Network metrics:\")\n",
        "print(\"  Accuracy  =\", accuracy_score(y_test, y_pred_nn))\n",
        "print(\"  Precision =\", precision_score(y_test, y_pred_nn))\n",
        "print(\"  Recall    =\", recall_score(y_test, y_pred_nn))\n",
        "print(\"  ROC-AUC   =\", roc_auc_score(y_test, y_proba_nn))"
      ],
      "metadata": {
        "colab": {
          "base_uri": "https://localhost:8080/"
        },
        "id": "QubL4lXpfVrO",
        "outputId": "90c03d94-61d1-48bd-b511-8609bea52da2"
      },
      "execution_count": 35,
      "outputs": [
        {
          "output_type": "stream",
          "name": "stderr",
          "text": [
            "/usr/local/lib/python3.12/dist-packages/keras/src/layers/core/dense.py:93: UserWarning: Do not pass an `input_shape`/`input_dim` argument to a layer. When using Sequential models, prefer using an `Input(shape)` object as the first layer in the model instead.\n",
            "  super().__init__(activity_regularizer=activity_regularizer, **kwargs)\n"
          ]
        },
        {
          "output_type": "stream",
          "name": "stdout",
          "text": [
            "\u001b[1m10/10\u001b[0m \u001b[32m━━━━━━━━━━━━━━━━━━━━\u001b[0m\u001b[37m\u001b[0m \u001b[1m0s\u001b[0m 6ms/step \n",
            "\n",
            "Neural Network metrics:\n",
            "  Accuracy  = 0.8433333333333334\n",
            "  Precision = 0.8888888888888888\n",
            "  Recall    = 0.9152542372881356\n",
            "  ROC-AUC   = 0.920948093220339\n"
          ]
        }
      ]
    },
    {
      "cell_type": "code",
      "source": [],
      "metadata": {
        "id": "6V_Q3ciHfeuH"
      },
      "execution_count": null,
      "outputs": []
    }
  ]
}